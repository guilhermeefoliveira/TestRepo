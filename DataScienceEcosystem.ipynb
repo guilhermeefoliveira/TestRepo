{
 "cells": [
  {
   "cell_type": "markdown",
   "id": "28b7cb49-97de-4a88-843e-9ee836a39638",
   "metadata": {},
   "source": [
    "# Data Science Tools and Ecosystem"
   ]
  },
  {
   "cell_type": "markdown",
   "id": "53d53a68-172f-4814-b4dc-d00a5375a70b",
   "metadata": {},
   "source": [
    "In this notebook, Data Science Tools and Ecosystem are summarized."
   ]
  },
  {
   "cell_type": "markdown",
   "id": "98d8c6cf-3ef3-44b5-b578-93c0751eee58",
   "metadata": {},
   "source": [
    "Some of the popular languages that Data Scientists use are:\n",
    "* R\n",
    "* Python\n",
    "* Julia"
   ]
  },
  {
   "cell_type": "markdown",
   "id": "715407db-5c0d-47b5-b11a-a32365e3274c",
   "metadata": {},
   "source": [
    "Some of the commonly used libraries used by Data Scientists include:\n",
    "1. Numpy\n",
    "2. Pandas\n",
    "3. Matplotlib\n",
    "4. Seaborn\n",
    "5. caret"
   ]
  },
  {
   "cell_type": "markdown",
   "id": "63dc02a0-70d3-4518-8e4b-43789b805320",
   "metadata": {},
   "source": [
    "|Data Science Tools|\n",
    "|------------------|\n",
    "|Jupyter Notebook|\n",
    "|Github|\n",
    "|Rstudio|"
   ]
  },
  {
   "cell_type": "markdown",
   "id": "4e8077b0-9a20-4b65-9fa0-d32d1b7ee86f",
   "metadata": {},
   "source": [
    "### Below are a few examples of evaluating arithmetic expressions in Python"
   ]
  },
  {
   "cell_type": "code",
   "execution_count": 5,
   "id": "f0d1cf24-3142-4220-835c-6bf91cf5730f",
   "metadata": {},
   "outputs": [
    {
     "data": {
      "text/plain": [
       "17"
      ]
     },
     "execution_count": 5,
     "metadata": {},
     "output_type": "execute_result"
    }
   ],
   "source": [
    "# This a simple arithmetic expression to mutiply then add integers\n",
    "3*4+5"
   ]
  },
  {
   "cell_type": "code",
   "execution_count": 7,
   "id": "a8fc3131-3557-456b-9d4a-cbea2a6acc3e",
   "metadata": {},
   "outputs": [
    {
     "name": "stdout",
     "output_type": "stream",
     "text": [
      "200 minutes equals 3.3333333333333335 h\n"
     ]
    }
   ],
   "source": [
    "#This will convert 200 minutes to hours by diving by 60.\n",
    "print(\"200 minutes equals\", 200/60,\"h\") "
   ]
  },
  {
   "cell_type": "markdown",
   "id": "66c3052c-e841-4539-a48c-79b0c007e1ee",
   "metadata": {},
   "source": [
    "Objectives:\n",
    "* Introducing the reader to Jupyter notebooks\n",
    "* List popular DS languages\n",
    "* List popular DS libraries\n",
    "* List popular DS tools\n",
    "* How to add a piece of code in the notebook"
   ]
  },
  {
   "cell_type": "markdown",
   "id": "30ad67e7-6889-4c12-b53a-e3b5557ed33b",
   "metadata": {},
   "source": [
    "## Author\n",
    "Gui Freire Oliveira"
   ]
  },
  {
   "cell_type": "code",
   "execution_count": null,
   "id": "3593cccf-d0d6-4e28-ba6c-9b8707e4d55f",
   "metadata": {},
   "outputs": [],
   "source": []
  }
 ],
 "metadata": {
  "kernelspec": {
   "display_name": "Python 3 (ipykernel)",
   "language": "python",
   "name": "python3"
  },
  "language_info": {
   "codemirror_mode": {
    "name": "ipython",
    "version": 3
   },
   "file_extension": ".py",
   "mimetype": "text/x-python",
   "name": "python",
   "nbconvert_exporter": "python",
   "pygments_lexer": "ipython3",
   "version": "3.10.12"
  }
 },
 "nbformat": 4,
 "nbformat_minor": 5
}
